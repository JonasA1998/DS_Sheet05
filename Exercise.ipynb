{
 "cells": [
  {
   "cell_type": "markdown",
   "id": "89d0f270-e012-4d95-850d-fbf05fc42281",
   "metadata": {},
   "source": [
    "## Hausaufgabe 5 \n",
    "\n",
    "### Abgage via studip bis spätestens 10.01. 12:00 Uhr (zur VL)! \n",
    "### Verteidigung 12.01. 08:00-10:00 Uhr (Timeslots werden vorher bekannt gegeben)!\n",
    "\n",
    "\n",
    "- In jedem Blatt kann maximal 5% Bonus erreicht werden, falls:\n",
    "    - Mind. 60% des Arbeitsblatts korrekt bearbeitet wurde und\n",
    "    - das Arbeitsblatt erfolgreich verteidigt (den Tutoren erklärt) wurde.\n",
    "    - Bonus % = 5% * Teil der Hausaufgabe erfolgreich verteidigt\n",
    "    - Erfolgreiche Verteidigung: Ein von uns ausgewähltes Team-Mitglied erklärt die Lösung und beantwortet Fragen dazu.\n",
    "- Wir bewerten nicht nur die Korrektheit der Ergebnisse, sondern auch ob der Code effizient, einfach zu verstehen, aufgeräumt und gut dokumentiert ist."
   ]
  },
  {
   "cell_type": "markdown",
   "id": "c98c6db8-b47c-499d-a5a3-a57cf918f0a0",
   "metadata": {},
   "source": [
    "## Exercise 1"
   ]
  },
  {
   "cell_type": "markdown",
   "id": "f8e2ed09-bdc7-4846-812b-a90a6da9711e",
   "metadata": {},
   "source": [
    "#### a) \n",
    "- Erstellen Sie ein neues lokales Repository \n",
    "- Legen Sie die angegebenen Dateien in das Repository und commiten Sie sie."
   ]
  },
  {
   "cell_type": "code",
   "execution_count": 89,
   "id": "7448963b-3347-48a9-b7ca-d3c4763102e2",
   "metadata": {},
   "outputs": [],
   "source": [
    "cd Sheet5"
   ]
  },
  {
   "cell_type": "code",
   "execution_count": 91,
   "id": "48bdc723-fb6b-4fa5-90af-db38ac84b7d1",
   "metadata": {},
   "outputs": [
    {
     "name": "stdout",
     "output_type": "stream",
     "text": [
      "Exercise.ipynb\tmergesort_clean.py  mergesort.py  my_repo  titanic.csv\n"
     ]
    }
   ],
   "source": [
    "ls"
   ]
  },
  {
   "cell_type": "code",
   "execution_count": 92,
   "id": "9c684f1b-2d58-4f0a-89e1-93df8d5cdb58",
   "metadata": {},
   "outputs": [],
   "source": [
    "rm -r -f my_repo"
   ]
  },
  {
   "cell_type": "code",
   "execution_count": 93,
   "id": "3cf074c5-cf81-4ef5-bd48-fd5bded7e926",
   "metadata": {},
   "outputs": [
    {
     "name": "stdout",
     "output_type": "stream",
     "text": [
      "Initialized empty Git repository in /home/jovyan/DS_Tutorial/Sheet5/my_repo/.git/\n",
      "[master (root-commit) 112f680] first commit\n",
      " 3 files changed, 1364 insertions(+)\n",
      " create mode 100644 Exercise.ipynb\n",
      " create mode 100644 mergesort.py\n",
      " create mode 100644 titanic.csv\n"
     ]
    }
   ],
   "source": [
    "mkdir my_repo\n",
    "cd my_repo\n",
    "git config --global init.defaultBranch master\n",
    "git init\n",
    "cd ..\n",
    "mv mergesort.py titanic.csv Exercise.ipynb my_repo/\n",
    "cd my_repo\n",
    "git config --global user.name \"student_name\"\n",
    "git config --global user.email \"testmail@web.de\"\n",
    "git add .\n",
    "git commit -m 'first commit'"
   ]
  },
  {
   "cell_type": "markdown",
   "id": "23b63840-7c4d-40cd-9fe2-c51a869fc0ec",
   "metadata": {},
   "source": [
    " entfernen Sie sie aus der Git-Hi#### b) \n",
    "- Erstellen Sie eine `.gitignore` Datei (siehe [hier](https://github.com/github/gitignore) für Beispiele von nützlichen gitignore Vorlagen). \n",
    "- Fügen Sie `to_be_ignored` zur `.gitignore` hinzu und entfernen Sie sie aus der Git-Historie."
   ]
  },
  {
   "cell_type": "code",
   "execution_count": 94,
   "id": "792e4357-2166-4cef-a160-93847b3c8d4b",
   "metadata": {},
   "outputs": [
    {
     "name": "stdout",
     "output_type": "stream",
     "text": [
      "Exercise.ipynb\tmergesort.py  titanic.csv\n"
     ]
    }
   ],
   "source": [
    "ls"
   ]
  },
  {
   "cell_type": "code",
   "execution_count": 95,
   "id": "ba5cf213-c5cb-4dc9-98c0-c4fd014595c5",
   "metadata": {},
   "outputs": [],
   "source": [
    "touch .gitignore"
   ]
  },
  {
   "cell_type": "code",
   "execution_count": 96,
   "id": "cbb0ee33-bc4c-4661-aa9f-818bd0d45e66",
   "metadata": {},
   "outputs": [
    {
     "name": "stdout",
     "output_type": "stream",
     "text": [
      "[master b251592] ignore_this\n",
      " 1 file changed, 1 insertion(+)\n",
      " create mode 100644 .gitignore\n"
     ]
    }
   ],
   "source": [
    "echo \"to_be_ignored\" > .gitignore\n",
    "git add .\n",
    "git commit -m 'ignore_this'"
   ]
  },
  {
   "cell_type": "code",
   "execution_count": 97,
   "id": "90c4f151-db9e-4ffa-b94d-6c106df81c77",
   "metadata": {},
   "outputs": [
    {
     "name": "stdout",
     "output_type": "stream",
     "text": [
      "commit b2515928dc58b4ff11e245812d7b47aa93deeecd (HEAD -> master)\n",
      "Author: student_name <testmail@web.de>\n",
      "Date:   Fri Dec 9 18:15:25 2022 +0000\n",
      "\n",
      "    ignore_this\n",
      "\n",
      "commit 112f6805f4ef128f3016b0455fd0658a34007622\n",
      "Author: student_name <testmail@web.de>\n",
      "Date:   Fri Dec 9 18:15:07 2022 +0000\n",
      "\n",
      "    first commit\n"
     ]
    }
   ],
   "source": [
    "git log"
   ]
  },
  {
   "cell_type": "code",
   "execution_count": 77,
   "id": "bd59bc95-7c43-40b4-8300-5c5a21c2a2a9",
   "metadata": {},
   "outputs": [
    {
     "name": "stdout",
     "output_type": "stream",
     "text": [
      "Successfully rebased and updated detached HEAD.                                 \n"
     ]
    }
   ],
   "source": [
    "git rebase master 50d3f65ab67d26629189edddd488840eaef681a5^"
   ]
  },
  {
   "cell_type": "code",
   "execution_count": 78,
   "id": "c8333e91-e12e-4d7f-ba79-359796126c3d",
   "metadata": {},
   "outputs": [
    {
     "name": "stdout",
     "output_type": "stream",
     "text": [
      "commit 50d3f65ab67d26629189edddd488840eaef681a5 (HEAD, master)\n",
      "Author: student_name <testmail@web.de>\n",
      "Date:   Fri Dec 9 18:06:34 2022 +0000\n",
      "\n",
      "    ignore_this\n",
      "\n",
      "commit 7098ccfe4e7a0f4213ffc153f98a62832b1e1dec\n",
      "Author: student_name <testmail@web.de>\n",
      "Date:   Fri Dec 9 17:51:09 2022 +0000\n",
      "\n",
      "    first commit\n"
     ]
    }
   ],
   "source": [
    "git log"
   ]
  },
  {
   "cell_type": "markdown",
   "id": "ab7a9d11-89eb-4716-8571-34766d4c976f",
   "metadata": {},
   "source": [
    "#### c) \n",
    "- Erstellen Sie einen neuen Branch\n",
    "- Bereinigen Sie die Datei `mergesort.py`, um die Regeln für sauberen Code zu befolgen, die wir in der Vorlesung aufgestellt haben. \n",
    "- Versuchen Sie auch, den Code zu verstehen (siehe z.B. [hier](https://www.happycoders.eu/de/algorithmen/mergesort/) für eine Erklärung des Algorithmus) und dokumentieren Sie den Code.\n",
    "- Seine Funktionalität sollte sich nicht ändern!\n",
    "- Es sollte mindestens 7 Punkte geben, die zu verbessern sind.\n",
    "- Commiten Sie Ihre Änderungen. "
   ]
  },
  {
   "cell_type": "markdown",
   "id": "f5467fd9-851a-470e-9880-68ab37c3afe4",
   "metadata": {},
   "source": [
    "**SOLUTION** \n",
    "Points to clean up:\n",
    "\n",
    "- `merge_sort` in snake-case\n",
    "- `assignment` should not be a function\n",
    "- unnecessary `if` conditions\n",
    "- plotting can be its own function\n",
    "- last two while loops can be put in a function\n",
    "- `array1` and `array2` can be called `left` and `right`\n",
    "- `list_to_sort_by_merge` can have a shorter name"
   ]
  },
  {
   "cell_type": "markdown",
   "id": "1c131abc-c1b0-4b97-ac37-04abad5f5e99",
   "metadata": {},
   "source": [
    "#### d) \n",
    "- Erstellen Sie ein neues Repository auf GitHub (machen Sie es public). \n",
    "- Richten Sie eine ssh-Verifizierung für Ihr GitHub-Konto ein. \n",
    "- Fügen Sie die ssh-Adresse Ihres Repositorys als neues remote Repository zu Ihrem lokalen Repository hinzu.  "
   ]
  },
  {
   "cell_type": "markdown",
   "id": "5a03706d-c986-48c9-9207-2ff59770b7f4",
   "metadata": {},
   "source": [
    "#### e) \n",
    "- Wechseln Sie zurück zum `main` Branch.\n",
    "- Pushen Sie in Ihr remote Repository"
   ]
  },
  {
   "cell_type": "markdown",
   "id": "6d91483e-0a00-4fba-958d-fea707fd47e2",
   "metadata": {},
   "source": [
    "#### f)\n",
    "- Ändern Sie den Plotting-Teil von `mergesort.py` so, dass er die in der Vorlesung festgelegten Standards widerspiegelt. (Versuchen Sie auch zu überlegen, was die beste Art Plot für diese Daten sein könnte.)\n",
    "- Commiten Sie es und pushen Sie es in das remote Repository."
   ]
  },
  {
   "cell_type": "markdown",
   "id": "3f4d7088-60b8-41b5-9806-114839f8e8cb",
   "metadata": {},
   "source": [
    "#### g)\n",
    " - Wechseln Sie zurück zum vorherigen Branch. \n",
    " - Erstellen Sie einen Fork des remote Repositorys auf GitHub. \n",
    " - Fügen Sie den Fork als weiteres remote Repository zu Ihrem lokalen Repository hinzu. \n",
    " - Pushen Sie Ihren lokalen Branch in den Fork und erstellen Sie einen Pull-Request auf GitHub."
   ]
  },
  {
   "cell_type": "markdown",
   "id": "6d9dbf98-3ea2-4b7f-8b8b-eb4526784c28",
   "metadata": {},
   "source": [
    "#### h)\n",
    "- Der Pull-Request sollte anzeigen, dass es Konflikte gibt. \n",
    "- Mergen Sie den `main`-Branch in Ihren Feature-Branch ein (nicht umgekehrt!) und lösen Sie die Konflikte.\n",
    "- Pushen Sie Ihren Feature-Branch wieder in Ihren Fork und mergen Sie den Pull-Request."
   ]
  },
  {
   "cell_type": "markdown",
   "id": "8f690324-815f-4e2e-807b-3e6f87f483dd",
   "metadata": {},
   "source": [
    "#### i) \n",
    "- Wechseln Sie zurück zum \"main\"-Branch und pullen Sie aus dem remote Repository.\n",
    "- Löschen Sie den lokalen Feature-Branch (er ist ja bereits im main Branch)."
   ]
  },
  {
   "cell_type": "code",
   "execution_count": null,
   "id": "e3dc8fa9-f1ae-49a8-8d96-aaa23eca6df5",
   "metadata": {},
   "outputs": [],
   "source": []
  },
  {
   "cell_type": "markdown",
   "id": "2932b317-11a9-4cfd-9757-519c0cd4a396",
   "metadata": {},
   "source": [
    "## Exercise 2"
   ]
  },
  {
   "cell_type": "markdown",
   "id": "39e88314-ea52-4e2a-a106-41e006e64b29",
   "metadata": {},
   "source": [
    "Betrachten Sie die folgende Aufgabe:\n",
    "\n",
    "Gegeben eine Array von Intergern in dem alle Elemente außer eins genau zweimal vorkommen, finden Sie das einzelne Element.\n",
    "\n",
    "Beispiel: `[1,2,3,4,3,1,2]`\n",
    "\n",
    "Das einzelne Element ist: `4`\n",
    "\n",
    "Sie können annehmen dass das Array ungerade Länge hat und es nur eine Element gibt dass nur genau einmal vorkommt.\n",
    "\n",
    "Hinweis: Die folgenden Aufgaben müssen nicht notwendigerweise in Reihenfolge bearbeitet werden.\n"
   ]
  },
  {
   "cell_type": "markdown",
   "id": "1be8bfc4-a31b-49ee-8ceb-f8c8daa863de",
   "metadata": {},
   "source": [
    "#### a) Schreiben Sie test-Fälle für die oben beschrieben Aufgabe. \n",
    "(Mind. 5 Testfälle nötig!) \n",
    "Denken Sie an mögliche Randfälle und ungültige Eingaben."
   ]
  },
  {
   "cell_type": "markdown",
   "id": "1a6141b7-2f71-4ff2-8dfe-55e837ee512e",
   "metadata": {},
   "source": [
    "#### b) Basierend auf den test-Fällen, schreiben Sie eine Methode welche den Task erfolgreich (und effizient) löst."
   ]
  },
  {
   "cell_type": "markdown",
   "id": "4af37373-85a5-4e27-96a9-0c093f56a2c8",
   "metadata": {},
   "source": [
    "#### c) Schreiben Sie ein Docker-File welches `numpy`, `pandas`, `matplotlib` und `seaborn` installiert. "
   ]
  },
  {
   "cell_type": "markdown",
   "id": "4101f101-6a16-4308-add4-f4dc94ec8a9c",
   "metadata": {},
   "source": [
    "#### d) Schreiben Sie eine Docker-compose Datei, welche zwei verschiedene services anbietet:\n",
    "\n",
    "1. Alle Tests durchlaufen lassen\n",
    "2. Die Methode für einen gegebenen Input laufen lassen.\n",
    "\n",
    "Stellen Sie auch sicher dass der Container das Verzeichnis mit Ihren Skripten mountet, sodass Sie zugriff auf die aktuelle Version Ihres Codes haben.\n",
    "\n",
    "Demonstrieren Sie in einem Test auch dass die angegebenen Libraries aus c) erfolgreich installiert sind."
   ]
  },
  {
   "cell_type": "code",
   "execution_count": null,
   "id": "feb8fb48-b980-4e0f-8c16-1373e375c63b",
   "metadata": {},
   "outputs": [],
   "source": []
  }
 ],
 "metadata": {
  "kernelspec": {
   "display_name": "Bash",
   "language": "bash",
   "name": "bash"
  },
  "language_info": {
   "codemirror_mode": "shell",
   "file_extension": ".sh",
   "mimetype": "text/x-sh",
   "name": "bash"
  }
 },
 "nbformat": 4,
 "nbformat_minor": 5
}
